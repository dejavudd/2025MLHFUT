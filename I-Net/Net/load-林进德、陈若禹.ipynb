{
 "cells": [
  {
   "cell_type": "code",
   "execution_count": null,
   "id": "e8a69c3a-346f-4202-8b7f-60b48c6133e3",
   "metadata": {},
   "outputs": [],
   "source": [
    "import torch\n",
    "from torch.utils.data import Dataset\n",
    "import os\n",
    "import glob\n",
    "from PIL import Image\n",
    "import torchvision.transforms as transforms"
   ]
  },
  {
   "cell_type": "markdown",
   "id": "2e2c523c-8957-40fd-a8d7-17d909ae1035",
   "metadata": {},
   "source": [
    "# 路径"
   ]
  },
  {
   "cell_type": "markdown",
   "id": "c1b21940-b5a7-4739-93cd-a8f3f05df76c",
   "metadata": {},
   "source": [
    "## 实现了自定义数据读取与格式转换，将原始图像数据进行归一化、尺寸调整和批量处理，生成适配模型训练的数据格式。同时，加载器支持多任务训练场景下曝光增强与检测任务的联合输入，保证训练数据在多GPU分布式训练中的高效调度与均衡分配。该模块为后续训练提供了稳定、标准化且高效的数据流，确保模型训练过程的顺利进行与性能稳定。"
   ]
  },
  {
   "cell_type": "code",
   "execution_count": null,
   "id": "f01e3897-e095-4389-80b2-212726048344",
   "metadata": {},
   "outputs": [],
   "source": [
    "# 导入 BrightISP.py 中的 HighExposure_Degrading 函数\n",
    "# 确保相对于 load.py 的路径正确\n",
    "import sys\n",
    "# 将 utils 目录添加到系统路径以导入 DarkISP\n",
    "sys.path.append(os.path.abspath(os.path.join(os.path.dirname(__file__), '../utils')))\n",
    "from BrightISP import HighExposure_Degrading"
   ]
  },
  {
   "cell_type": "markdown",
   "id": "3ec4c22e-d36c-4ee8-abae-c54f4b451d27",
   "metadata": {},
   "source": [
    "# 导入数据集"
   ]
  },
  {
   "cell_type": "code",
   "execution_count": null,
   "id": "7fac528b-5aaf-43f3-b4f0-703614047ad0",
   "metadata": {},
   "outputs": [],
   "source": [
    "class HighExposureDataset(Dataset):\n",
    "    \"\"\"\n",
    "    自定义数据集类，用于从原始图像生成高曝光图像。\n",
    "    它使用 DarkISP 中的 HighExposure_Degrading 函数来模拟高曝光条件。\n",
    "    \"\"\"\n",
    "\n",
    "    def __init__(self, root_dir, transform=None, resize_size=(640, 640), target_subfolders=None):\n",
    "        \"\"\"\n",
    "        初始化 HighExposureDataset。\n",
    "\n",
    "        参数：\n",
    "            root_dir (string)：包含所有图像的目录（例如，path/to/WIDER_train/images）。\n",
    "            transform (callable, 可选)：可选的变换函数，应用于样本（在调整大小和降质后）。\n",
    "            resize_size (tuple)：调整图像大小的目标尺寸（高度，宽度）。\n",
    "            target_subfolders (list, 可选)：指定要加载的子文件夹前缀列表。\n",
    "        \"\"\"\n",
    "        self.root_dir = root_dir  # 图像根目录\n",
    "        self.transform = transform  # 图像变换\n",
    "        self.resize_size = resize_size  # 调整大小的目标尺寸\n",
    "\n",
    "        self.image_files = []  # 存储图像文件路径的列表\n",
    "        all_subdirs = [d for d in os.listdir(self.root_dir) if os.path.isdir(os.path.join(self.root_dir, d))]  # 获取根目录下所有子目录\n",
    "\n",
    "        if target_subfolders:\n",
    "            # 如果指定了目标子文件夹前缀，则只加载匹配的子文件夹中的图像\n",
    "            for subfolder_num_str in target_subfolders:\n",
    "                # 查找以指定前缀开头的实际目录名称\n",
    "                matched_dirs = [d for d in all_subdirs if d.startswith(subfolder_num_str + '--')]\n",
    "                if matched_dirs:\n",
    "                    # 假设只有一个目录匹配前缀\n",
    "                    subfolder_path = os.path.join(self.root_dir, matched_dirs[0])\n",
    "                    # 扩展图像文件列表，包含匹配子文件夹中的.jpg 和.png 图像\n",
    "                    self.image_files.extend(glob.glob(os.path.join(subfolder_path, '*.jpg')))\n",
    "                    self.image_files.extend(glob.glob(os.path.join(subfolder_path, '*.png')))\n",
    "                else:\n",
    "                    print(f\"警告：在 {self.root_dir} 中未找到以 {subfolder_num_str}-- 开头的子目录\")\n",
    "        else:\n",
    "            # 如果未指定目标子文件夹，则递归查找根目录下所有.jpg 和.png 图像\n",
    "            self.image_files = glob.glob(os.path.join(self.root_dir, '**', '*.jpg'), recursive=True) \\\n",
    "                             + glob.glob(os.path.join(self.root_dir, '**', '*.png'), recursive=True)\n",
    "\n",
    "        print(f\"找到 {len(self.image_files)} 张图像。\")\n",
    "        \n",
    "        # 定义调整大小的变换\n",
    "        self.resize_transform = transforms.Resize(self.resize_size)\n",
    "\n",
    "    def __len__(self):\n",
    "        # 返回数据集中图像的数量\n",
    "        return len(self.image_files)\n",
    "\n",
    "    def __getitem__(self, idx):\n",
    "        # 获取指定索引处的图像对（高曝光图像和原始图像）\n",
    "        if torch.is_tensor(idx):\n",
    "            # 如果索引是张量，转换为列表\n",
    "            idx = idx.tolist()\n",
    "\n",
    "        img_path = self.image_files[idx]  # 获取图像文件路径\n",
    "        \n",
    "        # 加载原始图像\n",
    "        original_image = Image.open(img_path).convert('RGB')\n",
    "        \n",
    "        # 将 PIL 图像转换为张量并归一化到 [0, 1]\n",
    "        original_tensor = transforms.ToTensor()(original_image)\n",
    "        \n",
    "        # 应用调整大小的变换\n",
    "        original_tensor_resized = self.resize_transform(original_tensor)\n",
    "        \n",
    "        # 使用 DarkISP 函数在调整大小后的张量上生成高曝光图像\n",
    "        # 该函数期望形状为 (C, H, W) 且范围在 [0, 1] 的张量\n",
    "        high_exposure_tensor_resized, _ = HighExposure_Degrading(original_tensor_resized)\n",
    "        \n",
    "        # 如果指定了变换，应用变换\n",
    "        if self.transform:\n",
    "            original_tensor_resized = self.transform(original_tensor_resized)\n",
    "            high_exposure_tensor_resized = self.transform(high_exposure_tensor_resized)\n",
    "\n",
    "        # 返回调整大小后的高曝光图像（输入）和调整大小后的原始图像（真值）\n",
    "        return high_exposure_tensor_resized, original_tensor_resized"
   ]
  }
 ],
 "metadata": {
  "kernelspec": {
   "display_name": "lin",
   "language": "python",
   "name": "lin"
  },
  "language_info": {
   "codemirror_mode": {
    "name": "ipython",
    "version": 3
   },
   "file_extension": ".py",
   "mimetype": "text/x-python",
   "name": "python",
   "nbconvert_exporter": "python",
   "pygments_lexer": "ipython3",
   "version": "3.9.15"
  }
 },
 "nbformat": 4,
 "nbformat_minor": 5
}
