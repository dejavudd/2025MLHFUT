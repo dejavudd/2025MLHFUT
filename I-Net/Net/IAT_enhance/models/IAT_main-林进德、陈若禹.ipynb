{
 "cells": [
  {
   "cell_type": "markdown",
   "id": "045b2050-3ee2-4dd0-990c-604f071412e5",
   "metadata": {},
   "source": [
    "# 导入模块"
   ]
  },
  {
   "cell_type": "code",
   "execution_count": null,
   "id": "00debcca-69ae-4a22-866c-c8675ca6dfbb",
   "metadata": {},
   "outputs": [],
   "source": [
    "import torch\n",
    "import numpy as np\n",
    "from torch import nn\n",
    "import torch.nn.functional as F\n",
    "import os\n",
    "import math\n",
    "\n",
    "from timm.models.layers import trunc_normal_\n",
    "from model.blocks import CBlock_ln, SwinTransformerBlock\n",
    "from model.global_net import Global_pred"
   ]
  },
  {
   "cell_type": "markdown",
   "id": "d18cd98d-14eb-4dd9-bbb8-4e36358913a2",
   "metadata": {},
   "source": [
    "# Local_pred 模型 "
   ]
  },
  {
   "cell_type": "code",
   "execution_count": null,
   "id": "66d8e137-17f8-4ba5-8d64-b4e18f9b9498",
   "metadata": {},
   "outputs": [],
   "source": [
    "class Local_pred(nn.Module):\n",
    "    def __init__(self, dim=16, number=4, type='ccc'):\n",
    "        super(Local_pred, self).__init__()\n",
    "\n",
    "        # 输入特征降维\n",
    "        self.conv1 = nn.Conv2d(3, dim, 3, padding=1, groups=1)\n",
    "        self.relu = nn.LeakyReLU(negative_slope=0.2, inplace=True)\n",
    "\n",
    "        # 模块配置：支持纯CNN、纯Transformer或混合\n",
    "        block = CBlock_ln(dim)\n",
    "        block_t = SwinTransformerBlock(dim)\n",
    "\n",
    "        if type =='ccc':  \n",
    "            # 纯CNN版，使用drop_path防止过拟合\n",
    "            blocks1 = [CBlock_ln(16, drop_path=0.01), CBlock_ln(16, drop_path=0.05), CBlock_ln(16, drop_path=0.1)]\n",
    "            blocks2 = [CBlock_ln(16, drop_path=0.01), CBlock_ln(16, drop_path=0.05), CBlock_ln(16, drop_path=0.1)]\n",
    "        elif type =='ttt':\n",
    "            # 纯Swin Transformer版\n",
    "            blocks1, blocks2 = [block_t for _ in range(number)], [block_t for _ in range(number)]\n",
    "        elif type =='cct':\n",
    "            # 混合堆叠\n",
    "            blocks1, blocks2 = [block, block, block_t], [block, block, block_t]\n",
    "\n",
    "        # 预测输出：乘法增益、加法偏移\n",
    "        self.mul_blocks = nn.Sequential(*blocks1, nn.Conv2d(dim, 3, 3, 1, 1), nn.ReLU())\n",
    "        self.add_blocks = nn.Sequential(*blocks2, nn.Conv2d(dim, 3, 3, 1, 1), nn.Tanh())\n",
    "\n",
    "    def forward(self, img):\n",
    "        img1 = self.relu(self.conv1(img))\n",
    "        mul = self.mul_blocks(img1)\n",
    "        add = self.add_blocks(img1)\n",
    "        return mul, add"
   ]
  },
  {
   "cell_type": "markdown",
   "id": "f05aac39-e635-4899-ad85-36fb8ab74d69",
   "metadata": {},
   "source": [
    "# Local_pred_S"
   ]
  },
  {
   "cell_type": "code",
   "execution_count": null,
   "id": "fe806d16-99a4-44c6-b5ae-e23fd6864dc0",
   "metadata": {},
   "outputs": [],
   "source": [
    "class Local_pred_S(nn.Module):\n",
    "    def __init__(self, in_dim=3, dim=16, number=4, type='ccc'):\n",
    "        super(Local_pred_S, self).__init__()\n",
    "\n",
    "        self.conv1 = nn.Conv2d(in_dim, dim, 3, padding=1, groups=1)\n",
    "        self.relu = nn.LeakyReLU(negative_slope=0.2, inplace=True)\n",
    "\n",
    "        block = CBlock_ln(dim)\n",
    "        block_t = SwinTransformerBlock(dim)\n",
    "\n",
    "        if type =='ccc':\n",
    "            blocks1 = [CBlock_ln(16, drop_path=0.01), CBlock_ln(16, drop_path=0.05), CBlock_ln(16, drop_path=0.1)]\n",
    "            blocks2 = [CBlock_ln(16, drop_path=0.01), CBlock_ln(16, drop_path=0.05), CBlock_ln(16, drop_path=0.1)]\n",
    "        elif type =='ttt':\n",
    "            blocks1, blocks2 = [block_t for _ in range(number)], [block_t for _ in range(number)]\n",
    "        elif type =='cct':\n",
    "            blocks1, blocks2 = [block, block, block_t], [block, block, block_t]\n",
    "\n",
    "        self.mul_blocks = nn.Sequential(*blocks1)\n",
    "        self.add_blocks = nn.Sequential(*blocks2)\n",
    "\n",
    "        self.mul_end = nn.Sequential(nn.Conv2d(dim, 3, 3, 1, 1), nn.ReLU())\n",
    "        self.add_end = nn.Sequential(nn.Conv2d(dim, 3, 3, 1, 1), nn.Tanh())\n",
    "\n",
    "        # 初始化权重（重要）\n",
    "        self.apply(self._init_weights)\n",
    "\n",
    "    def _init_weights(self, m):\n",
    "        \"\"\"\n",
    "        权重初始化策略\n",
    "        \"\"\"\n",
    "        if isinstance(m, nn.Linear):\n",
    "            trunc_normal_(m.weight, std=.02)\n",
    "            if m.bias is not None:\n",
    "                nn.init.constant_(m.bias, 0)\n",
    "        elif isinstance(m, nn.LayerNorm):\n",
    "            nn.init.constant_(m.bias, 0)\n",
    "            nn.init.constant_(m.weight, 1.0)\n",
    "        elif isinstance(m, nn.Conv2d):\n",
    "            fan_out = m.kernel_size[0] * m.kernel_size[1] * m.out_channels\n",
    "            fan_out //= m.groups\n",
    "            m.weight.data.normal_(0, math.sqrt(2.0 / fan_out))\n",
    "            if m.bias is not None:\n",
    "                m.bias.data.zero_()\n",
    "\n",
    "    def forward(self, img):\n",
    "        img1 = self.relu(self.conv1(img))\n",
    "        # 残差连接（增强训练稳定性）\n",
    "        mul = self.mul_blocks(img1) + img1\n",
    "        add = self.add_blocks(img1) + img1\n",
    "        mul = self.mul_end(mul)\n",
    "        add = self.add_end(add)\n",
    "        return mul, add"
   ]
  },
  {
   "cell_type": "markdown",
   "id": "39e70319-ff37-4d0e-97db-d898bff56c67",
   "metadata": {},
   "source": [
    "# 定义完整的 IAT 框架"
   ]
  },
  {
   "cell_type": "code",
   "execution_count": null,
   "id": "51e37f02-363e-4fea-b83e-787adf06feee",
   "metadata": {},
   "outputs": [],
   "source": [
    "class IAT(nn.Module):\n",
    "    \"\"\"\n",
    "    Integrated Adjustment Transformer\n",
    "    包括局部曝光增强 (乘法、加法预测) + 全局色彩与gamma调整\n",
    "    \"\"\"\n",
    "    def __init__(self, in_dim=3, with_global=True, type='lol'):\n",
    "        super(IAT, self).__init__()\n",
    "\n",
    "        self.local_net = Local_pred_S(in_dim=in_dim)\n",
    "        self.with_global = with_global\n",
    "        if self.with_global:\n",
    "            self.global_net = Global_pred(in_channels=in_dim, type=type)\n",
    "\n",
    "    def apply_color(self, image, ccm):\n",
    "        \"\"\"\n",
    "        应用全局色彩变换矩阵\n",
    "        \"\"\"\n",
    "        shape = image.shape\n",
    "        image = image.view(-1, 3)\n",
    "        image = torch.tensordot(image, ccm, dims=[[-1], [-1]])\n",
    "        image = image.view(shape)\n",
    "        return torch.clamp(image, 1e-8, 1.0)\n",
    "\n",
    "    def forward(self, img_low):\n",
    "        # 局部增强\n",
    "        mul, add = self.local_net(img_low)\n",
    "        img_high = (img_low.mul(mul)).add(add)\n",
    "\n",
    "        # 全局色彩 + gamma增强\n",
    "        if not self.with_global:\n",
    "            return mul, add, img_high\n",
    "        else:\n",
    "            gamma, color = self.global_net(img_low)\n",
    "            b = img_high.shape[0]\n",
    "            img_high = img_high.permute(0, 2, 3, 1)\n",
    "            img_high = torch.stack([\n",
    "                self.apply_color(img_high[i], color[i]) ** gamma[i] for i in range(b)\n",
    "            ], dim=0)\n",
    "            img_high = img_high.permute(0, 3, 1, 2)\n",
    "            return mul, add, img_high"
   ]
  },
  {
   "cell_type": "markdown",
   "id": "b01ba723-b128-484f-bfa4-62f76387d138",
   "metadata": {},
   "source": [
    "# 测试代码"
   ]
  },
  {
   "cell_type": "code",
   "execution_count": null,
   "id": "02f46ca9-1117-4224-8654-5b8b00db9523",
   "metadata": {},
   "outputs": [],
   "source": [
    "if __name__ == \"__main__\":\n",
    "    os.environ['CUDA_VISIBLE_DEVICES'] = '3'\n",
    "    img = torch.randn(1, 3, 400, 600)  # 模拟单张测试图像\n",
    "    net = IAT()\n",
    "    print('Total Parameters:', sum(param.numel() for param in net.parameters()))\n",
    "    _, _, high = net(img)"
   ]
  }
 ],
 "metadata": {
  "kernelspec": {
   "display_name": "lin",
   "language": "python",
   "name": "lin"
  },
  "language_info": {
   "codemirror_mode": {
    "name": "ipython",
    "version": 3
   },
   "file_extension": ".py",
   "mimetype": "text/x-python",
   "name": "python",
   "nbconvert_exporter": "python",
   "pygments_lexer": "ipython3",
   "version": "3.9.15"
  }
 },
 "nbformat": 4,
 "nbformat_minor": 5
}
