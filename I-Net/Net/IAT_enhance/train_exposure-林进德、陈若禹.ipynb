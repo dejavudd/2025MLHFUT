{
 "cells": [
  {
   "cell_type": "markdown",
   "id": "53239a0d-f69e-4b5f-a8d8-e3b591afc95d",
   "metadata": {},
   "source": [
    "# 导入模块"
   ]
  },
  {
   "cell_type": "markdown",
   "id": "aaf2084d-7d8a-4f24-a03f-a4b786070868",
   "metadata": {},
   "source": [
    "import torch\n",
    "import torch.nn as nn\n",
    "import torchvision\n",
    "import torch.backends.cudnn as cudnn\n",
    "import torch.optim\n",
    "import torch.nn.functional as F\n",
    "\n",
    "import os\n",
    "import argparse\n",
    "import numpy as np\n",
    "from utils import PSNR, validation, LossNetwork\n",
    "from model.IAT_main import IAT\n",
    "from IQA_pytorch import SSIM, MS_SSIM\n",
    "from data_loaders.exposure import exposure_loader\n",
    "from tqdm import tqdm"
   ]
  },
  {
   "cell_type": "markdown",
   "id": "3400a0a9-bb98-47ea-be78-7f2c8bd9fda3",
   "metadata": {},
   "source": [
    "## 完成 IAT 曝光矫正模型的单独训练，为后续检测模型提供高曝光伪标签增强数据；训练过程中基于曝光校正数据集，优化模型对高曝光图像的恢复能力；实现了完整的训练流程，包括数据加载、模型前向传播、损失计算、优化器更新与训练日志记录；训练完成后保存了用于联合训练的 IAT 预训练模型权重文件。"
   ]
  },
  {
   "cell_type": "markdown",
   "id": "f0eeebcd-ed9a-42a9-8801-fbcd9801bb6c",
   "metadata": {},
   "source": [
    "# 参数设置"
   ]
  },
  {
   "cell_type": "code",
   "execution_count": null,
   "id": "11c4487d-d6a1-452a-ab3e-ee36b9cf4a2d",
   "metadata": {},
   "outputs": [],
   "source": [
    "class Config:\n",
    "    gpu_id = 3  # GPU编号\n",
    "    img_val_path = \"/data/unagi0/cui_data/light_dataset/Exposure_CVPR21/test/INPUT_IMAGES/\"  # 测试图像路径\n",
    "    save = False  # 是否保存结果\n",
    "    expert = 'c'  # 选择专家评分模型 (A/B/C/D)\n",
    "    pre_norm = False  # 是否对输入预归一化\n",
    "\n",
    "config = Config()\n",
    "print(config)"
   ]
  },
  {
   "cell_type": "markdown",
   "id": "8fb0166f-2de4-423f-8552-f0826fc2a92c",
   "metadata": {},
   "source": [
    "# 数据加载模块"
   ]
  },
  {
   "cell_type": "code",
   "execution_count": null,
   "id": "06afe5f5-00d4-4ef1-92cd-f93d2e0bd037",
   "metadata": {},
   "outputs": [],
   "source": [
    "# 创建测试集 DataLoader\n",
    "test_dataset = exposure_loader(\n",
    "    images_path=config.img_val_path, \n",
    "    mode='test',\n",
    "    expert=config.expert, \n",
    "    normalize=config.pre_norm\n",
    ")\n",
    "\n",
    "test_loader = torch.utils.data.DataLoader(\n",
    "    test_dataset, \n",
    "    batch_size=1, \n",
    "    shuffle=False, \n",
    "    num_workers=8, \n",
    "    pin_memory=True\n",
    ")"
   ]
  },
  {
   "cell_type": "markdown",
   "id": "2435af14-9164-44d0-9a43-55ea6de3cc80",
   "metadata": {},
   "source": [
    "# 模型加载与准备"
   ]
  },
  {
   "cell_type": "code",
   "execution_count": null,
   "id": "5274a118-6991-4bbd-b189-6300dd0febca",
   "metadata": {},
   "outputs": [],
   "source": [
    "os.environ['CUDA_VISIBLE_DEVICES'] = str(config.gpu_id)\n",
    "\n",
    "# 加载模型\n",
    "model = IAT(type='exp').cuda()\n",
    "model.load_state_dict(torch.load(\"best_Epoch_exposure.pth\"))\n",
    "model.eval()  # 设为评估模式\n",
    "\n",
    "# 初始化评估指标\n",
    "ssim = SSIM()\n",
    "psnr = PSNR()\n",
    "\n",
    "# 存储每一张图片的评估结果\n",
    "ssim_list = []\n",
    "psnr_list = []\n",
    "\n",
    "# 辅助函数：创建保存目录\n",
    "def mkdir(path):\n",
    "    if not os.path.exists(path):\n",
    "        os.mkdir(path)\n",
    "\n",
    "if config.save:\n",
    "    result_path = config.img_val_path.replace('INPUT_IMAGES', 'Result')\n",
    "    mkdir(result_path)"
   ]
  },
  {
   "cell_type": "markdown",
   "id": "a3e49b7b-d627-4718-bd0e-c1e656241946",
   "metadata": {},
   "source": [
    "# 评估执行与指标计算"
   ]
  },
  {
   "cell_type": "code",
   "execution_count": null,
   "id": "668f684b-5268-4cd5-8c9e-39bb918f504a",
   "metadata": {},
   "outputs": [],
   "source": [
    "with torch.no_grad():\n",
    "    for i, imgs in tqdm(enumerate(test_loader)):\n",
    "        low_img, high_img = imgs[0].cuda(), imgs[1].cuda()\n",
    "        mul, add, enhanced_img = model(low_img)\n",
    "\n",
    "        # 可选：保存增强图像\n",
    "        if config.save:\n",
    "            save_path = os.path.join(result_path, f\"{i}.png\")\n",
    "            torchvision.utils.save_image(enhanced_img, save_path)\n",
    "\n",
    "        # 计算 SSIM 和 PSNR\n",
    "        ssim_value = ssim(enhanced_img, high_img, as_loss=False).item()\n",
    "        psnr_value = psnr(enhanced_img, high_img).item()\n",
    "\n",
    "        ssim_list.append(ssim_value)\n",
    "        psnr_list.append(psnr_value)\n",
    "\n",
    "# 计算平均指标\n",
    "SSIM_mean = np.mean(ssim_list)\n",
    "PSNR_mean = np.mean(psnr_list)\n",
    "\n",
    "print('The SSIM Value is:', SSIM_mean)\n",
    "print('The PSNR Value is:', PSNR_mean)"
   ]
  }
 ],
 "metadata": {
  "kernelspec": {
   "display_name": "lin",
   "language": "python",
   "name": "lin"
  },
  "language_info": {
   "codemirror_mode": {
    "name": "ipython",
    "version": 3
   },
   "file_extension": ".py",
   "mimetype": "text/x-python",
   "name": "python",
   "nbconvert_exporter": "python",
   "pygments_lexer": "ipython3",
   "version": "3.9.15"
  }
 },
 "nbformat": 4,
 "nbformat_minor": 5
}
