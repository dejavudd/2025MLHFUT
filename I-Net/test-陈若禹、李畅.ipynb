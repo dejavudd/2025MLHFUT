{
 "cells": [
  {
   "cell_type": "markdown",
   "metadata": {},
   "source": [
    "# 人脸检测代码\n",
    "\n",
    "主要功能包括：\n",
    "1. 图像预处理和格式转换\n",
    "2. 多尺度人脸检测\n",
    "3. 检测结果的后处理和可视化\n"
   ]
  },
  {
   "cell_type": "markdown",
   "metadata": {},
   "source": [
    "## 导入必要的包"
   ]
  },
  {
   "cell_type": "code",
   "execution_count": 1,
   "metadata": {},
   "outputs": [],
   "source": [
    "# %load test.py\n",
    "from __future__ import division\n",
    "from __future__ import absolute_import\n",
    "from __future__ import print_function\n",
    "\n",
    "import os\n",
    "import cv2\n",
    "import numpy as np\n",
    "from PIL import Image\n",
    "from pathlib import Path\n",
    "\n",
    "import torch\n",
    "from torch.autograd import Variable\n",
    "import torch.backends.cudnn as cudnn\n",
    "\n",
    "from models.factory import build_net\n",
    "from torchvision.utils import make_grid\n",
    "import glob\n"
   ]
  },
  {
   "cell_type": "markdown",
   "metadata": {},
   "source": [
    "## 设置CUDA环境\n",
    "\n",
    "检查是否可以使用GPU，并相应地设置PyTorch的默认张量类型。"
   ]
  },
  {
   "cell_type": "code",
   "execution_count": null,
   "metadata": {},
   "outputs": [],
   "source": [
    "\n",
    "use_cuda = torch.cuda.is_available()\n",
    "\n",
    "if use_cuda:\n",
    "    torch.set_default_tensor_type('torch.cuda.FloatTensor')\n",
    "    cudnn.benckmark = True\n",
    "else:\n",
    "    torch.set_default_tensor_type('torch.FloatTensor')\n"
   ]
  },
  {
   "cell_type": "markdown",
   "metadata": {},
   "source": [
    "## 工具函数\n",
    "\n",
    "### 张量转图像\n",
    "将PyTorch张量转换为numpy数组格式的图像。"
   ]
  },
  {
   "cell_type": "code",
   "execution_count": null,
   "metadata": {},
   "outputs": [],
   "source": [
    "\n",
    "def tensor_to_image(tensor):\n",
    "    grid = make_grid(tensor)\n",
    "    ndarr = grid.mul(255).add_(0.5).clamp_(0, 255).permute(1, 2, 0).to('cpu', torch.uint8).numpy()\n",
    "    return ndarr\n"
   ]
  },
  {
   "cell_type": "markdown",
   "metadata": {},
   "source": [
    "### 图像格式转换\n",
    "将图像从HWC格式转换为CHW格式，并从RGB转换为BGR。这是深度学习模型常用的输入格式。"
   ]
  },
  {
   "cell_type": "code",
   "execution_count": null,
   "metadata": {},
   "outputs": [],
   "source": [
    "\n",
    "def to_chw_bgr(image):\n",
    "    \"\"\"\n",
    "    将图像从HWC格式转换为CHW格式，并从RGB转换为BGR。\n",
    "    参数:\n",
    "        image (np.array): 具有HWC和RGB布局的图像。\n",
    "    \"\"\"\n",
    "    # HWC转CHW\n",
    "    if len(image.shape) == 3:\n",
    "        image = np.swapaxes(image, 1, 2)\n",
    "        image = np.swapaxes(image, 1, 0)\n",
    "    # RGB转BGR\n",
    "    image = image[[2, 1, 0], :, :]\n",
    "    return image\n"
   ]
  },
  {
   "cell_type": "markdown",
   "metadata": {},
   "source": [
    "## 人脸检测核心函数\n",
    "\n",
    "### 基础人脸检测\n",
    "使用深度学习模型检测图像中的人脸，返回检测框和置信度分数。"
   ]
  },
  {
   "cell_type": "code",
   "execution_count": null,
   "metadata": {},
   "outputs": [],
   "source": [
    "\n",
    "def detect_face(img, tmp_shrink):\n",
    "    image = cv2.resize(img, None, None, fx=tmp_shrink,\n",
    "                       fy=tmp_shrink, interpolation=cv2.INTER_LINEAR)\n",
    "\n",
    "    x = to_chw_bgr(image)\n",
    "    x = x.astype('float32')\n",
    "    x = x / 255.\n",
    "    x = x[[2, 1, 0], :, :]\n",
    "\n",
    "    x = Variable(torch.from_numpy(x).unsqueeze(0))\n",
    "    \n",
    "    if use_cuda:\n",
    "        x = x.cuda()\n",
    "\n",
    "    y = net.test_forward(x)[0]\n",
    "    detections = y.data.cpu().numpy()\n",
    "    scale = np.array([img.shape[1], img.shape[0], img.shape[1], img.shape[0]])\n",
    "\n",
    "    boxes=[]\n",
    "    scores = []\n",
    "    for i in range(detections.shape[1]):\n",
    "      j = 0\n",
    "      while ((j < detections.shape[2]) and detections[0, i, j, 0] > 0.0):\n",
    "        pt = (detections[0, i, j, 1:] * scale)\n",
    "        score = detections[0, i, j, 0]\n",
    "        boxes.append([pt[0],pt[1],pt[2],pt[3]])\n",
    "        scores.append(score)\n",
    "        j += 1\n",
    "\n",
    "    det_conf = np.array(scores)\n",
    "    boxes = np.array(boxes)\n",
    "\n",
    "    if boxes.shape[0] == 0:\n",
    "        return np.array([[0,0,0,0,0.001]])\n",
    "\n",
    "    det_xmin = boxes[:,0] # / tmp_shrink\n",
    "    det_ymin = boxes[:,1] # / tmp_shrink\n",
    "    det_xmax = boxes[:,2] # / tmp_shrink\n",
    "    det_ymax = boxes[:,3] # / tmp_shrink\n",
    "    det = np.column_stack((det_xmin, det_ymin, det_xmax, det_ymax, det_conf))\n",
    "\n",
    "    return det\n"
   ]
  },
  {
   "cell_type": "markdown",
   "metadata": {},
   "source": [
    "### 图像翻转测试\n",
    "对图像进行水平翻转后进行检测，然后将检测结果映射回原始图像坐标系。"
   ]
  },
  {
   "cell_type": "code",
   "execution_count": null,
   "metadata": {},
   "outputs": [],
   "source": [
    "\n",
    "def flip_test(image, shrink):\n",
    "    image_f = cv2.flip(image, 1)\n",
    "    det_f = detect_face(image_f, shrink)\n",
    "\n",
    "    det_t = np.zeros(det_f.shape)\n",
    "    det_t[:, 0] = image.shape[1] - det_f[:, 2]\n",
    "    det_t[:, 1] = det_f[:, 1]\n",
    "    det_t[:, 2] = image.shape[1] - det_f[:, 0]\n",
    "    det_t[:, 3] = det_f[:, 3]\n",
    "    det_t[:, 4] = det_f[:, 4]\n",
    "    return det_t\n"
   ]
  },
  {
   "cell_type": "markdown",
   "metadata": {},
   "source": [
    "### 多尺度测试\n",
    "通过不同的缩放比例对图像进行检测，以提高对不同大小人脸的检测效果。"
   ]
  },
  {
   "cell_type": "code",
   "execution_count": null,
   "metadata": {},
   "outputs": [],
   "source": [
    "\n",
    "def multi_scale_test(image, max_im_shrink):\n",
    "    # 缩小检测，仅检测大人脸\n",
    "    st = 0.5 if max_im_shrink >= 0.75 else 0.5 * max_im_shrink\n",
    "    det_s = detect_face(image, st)\n",
    "    if max_im_shrink > 0.75:\n",
    "        det_s = np.row_stack((det_s,detect_face(image, 0.75)))\n",
    "    index = np.where(np.maximum(det_s[:, 2] - det_s[:, 0] + 1, det_s[:, 3] - det_s[:, 1] + 1) > 30)[0]\n",
    "    det_s = det_s[index, :]\n",
    "    # 放大一次\n",
    "    bt = min(2, max_im_shrink) if max_im_shrink > 1 else (st + max_im_shrink) / 2\n",
    "    det_b = detect_face(image, bt)\n",
    "\n",
    "    # 放大小图像x次以检测小人脸\n",
    "    if max_im_shrink > 1.5:\n",
    "        det_b = np.row_stack((det_b,detect_face(image, 1.5)))\n",
    "    if max_im_shrink > 2:\n",
    "        bt *= 2\n",
    "        while bt < max_im_shrink: # and bt <= 2:\n",
    "            det_b = np.row_stack((det_b, detect_face(image, bt)))\n",
    "            bt *= 2\n",
    "\n",
    "        det_b = np.row_stack((det_b, detect_face(image, max_im_shrink)))\n",
    "\n",
    "    # 仅放大检测小人脸\n",
    "    if bt > 1:\n",
    "        index = np.where(np.minimum(det_b[:, 2] - det_b[:, 0] + 1, det_b[:, 3] - det_b[:, 1] + 1) < 100)[0]\n",
    "        det_b = det_b[index, :]\n",
    "    else:\n",
    "        index = np.where(np.maximum(det_b[:, 2] - det_b[:, 0] + 1, det_b[:, 3] - det_b[:, 1] + 1) > 30)[0]\n",
    "        det_b = det_b[index, :]\n",
    "\n",
    "    return det_s, det_b\n"
   ]
  },
  {
   "cell_type": "markdown",
   "metadata": {},
   "source": [
    "### 金字塔多尺度测试\n",
    "使用图像金字塔方法进行多尺度检测，特别适合检测不同大小的人脸。"
   ]
  },
  {
   "cell_type": "code",
   "execution_count": null,
   "metadata": {},
   "outputs": [],
   "source": [
    "\n",
    "def multi_scale_test_pyramid(image, max_shrink):\n",
    "    det_b = detect_face(image, 0.25)\n",
    "    index = np.where(\n",
    "        np.maximum(det_b[:, 2] - det_b[:, 0] + 1, det_b[:, 3] - det_b[:, 1] + 1)\n",
    "        > 30)[0]\n",
    "    det_b = det_b[index, :]\n",
    "\n",
    "    st = [1.25, 1.75, 2.25]\n",
    "    for i in range(len(st)):\n",
    "        if (st[i] <= max_shrink):\n",
    "            det_temp = detect_face(image, st[i])\n",
    "            # 仅放大检测小人脸\n",
    "            if st[i] > 1:\n",
    "                index = np.where(\n",
    "                    np.minimum(det_temp[:, 2] - det_temp[:, 0] + 1,\n",
    "                               det_temp[:, 3] - det_temp[:, 1] + 1) < 100)[0]\n",
    "                det_temp = det_temp[index, :]\n",
    "            else:\n",
    "                index = np.where(\n",
    "                    np.maximum(det_temp[:, 2] - det_temp[:, 0] + 1,\n",
    "                               det_temp[:, 3] - det_temp[:, 1] + 1) > 30)[0]\n",
    "                det_temp = det_temp[index, :]\n",
    "            det_b = np.row_stack((det_b, det_temp))\n",
    "    return det_b\n"
   ]
  },
  {
   "cell_type": "markdown",
   "metadata": {},
   "source": [
    "### 边界框投票\n",
    "对多个检测结果进行非极大值抑制(NMS)处理，合并重叠的检测框。"
   ]
  },
  {
   "cell_type": "code",
   "execution_count": null,
   "metadata": {},
   "outputs": [],
   "source": [
    "\n",
    "def bbox_vote(det_):\n",
    "    order_ = det_[:, 4].ravel().argsort()[::-1]\n",
    "    det_ = det_[order_, :]\n",
    "    dets_ = np.zeros((0, 5),dtype=np.float32)\n",
    "    while det_.shape[0] > 0:\n",
    "        # IOU计算\n",
    "        area_ = (det_[:, 2] - det_[:, 0] + 1) * (det_[:, 3] - det_[:, 1] + 1)\n",
    "        xx1 = np.maximum(det_[0, 0], det_[:, 0])\n",
    "        yy1 = np.maximum(det_[0, 1], det_[:, 1])\n",
    "        xx2 = np.minimum(det_[0, 2], det_[:, 2])\n",
    "        yy2 = np.minimum(det_[0, 3], det_[:, 3])\n",
    "        w = np.maximum(0.0, xx2 - xx1 + 1)\n",
    "        h = np.maximum(0.0, yy2 - yy1 + 1)\n",
    "        inter = w * h\n",
    "        o_ = inter / (area_[0] + area_[:] - inter)\n",
    "\n",
    "        # 获取需要合并的检测框并删除这些检测框\n",
    "        merge_index_ = np.where(o_ >= 0.3)[0]\n",
    "        det_accu_ = det_[merge_index_, :]\n",
    "        det_ = np.delete(det_, merge_index_, 0)\n",
    "\n",
    "        if merge_index_.shape[0] <= 1:\n",
    "            continue\n",
    "        det_accu_[:, 0:4] = det_accu_[:, 0:4] * np.tile(det_accu_[:, -1:], (1, 4))\n",
    "        max_score_ = np.max(det_accu_[:, 4])\n",
    "        det_accu_sum_ = np.zeros((1, 5))\n",
    "        det_accu_sum_[:, 0:4] = np.sum(det_accu_[:, 0:4], axis=0) / np.sum(det_accu_[:, -1:])\n",
    "        det_accu_sum_[:, 4] = max_score_\n",
    "        try:\n",
    "            dets_ = np.row_stack((dets_, det_accu_sum_))\n",
    "        except:\n",
    "            dets_ = det_accu_sum_\n",
    "\n",
    "    dets_ = dets_[0:750, :]\n",
    "    return dets_\n"
   ]
  },
  {
   "cell_type": "markdown",
   "metadata": {},
   "source": [
    "### 模型加载\n",
    "加载预训练的人脸检测模型。"
   ]
  },
  {
   "cell_type": "code",
   "execution_count": null,
   "metadata": {},
   "outputs": [],
   "source": [
    "\n",
    "def load_models():\n",
    "    print('构建网络')\n",
    "    net = build_net('test', num_classes=2, model='dark')\n",
    "    net.eval()\n",
    "    checkpoint = torch.load('/data1/home/chenruoyu/DAI-Net/weights/dark/dsfd_checkpoint.pth') # 加载检查点字典\n",
    "    net.load_state_dict(checkpoint['weight']) # 从'weight'键加载模型状态字典\n",
    "\n",
    "    if use_cuda:\n",
    "        net = net.cuda()\n",
    "\n",
    "    return net\n"
   ]
  },
  {
   "cell_type": "markdown",
   "metadata": {},
   "source": [
    "## 主程序\n",
    "\n",
    "设置参数并执行人脸检测流程。首先通过设置参数控制检测策略，包括是否使用多尺度检测和图像缩放比例。在检测过程中，代码采用了多种策略来提高检测效果：对原始图像进行检测、对翻转后的图像进行检测、使用不同缩放比例进行多尺度检测，以及使用图像金字塔方法进行检测。所有检测结果会被合并，并通过非极大值抑制(NMS)处理重叠的检测框，同时使用置信度阈值(0.8)过滤低置信度的结果。最后，代码会在图像上绘制检测框，并将结果保存为图像文件和包含检测框坐标及置信度分数的文本文件。整个过程中会显示处理进度，方便监控检测过程。这种多策略的检测方法特别适合处理包含不同大小、角度的人脸的图像，能够有效提高检测的准确性和鲁棒性。"
   ]
  },
  {
   "cell_type": "code",
   "execution_count": null,
   "metadata": {},
   "outputs": [],
   "source": [
    "\n",
    "if __name__ == '__main__':\n",
    "\n",
    "    ''' 参数 '''\n",
    "\n",
    "    USE_MULTI_SCALE = True\n",
    "    MY_SHRINK = 1\n",
    "\n",
    "    # USE_MULTI_SCALE = False\n",
    "    # MY_SHRINK = 2\n",
    "\n",
    "    save_path = './result/'\n",
    "\n",
    "    def load_images():\n",
    "      imglist = glob.glob('/data1/home/chenruoyu/DAI-Net/eaf141b8ca103504e9cd8a33b625788.png') # 设置测试数据的目录\n",
    "      return imglist\n",
    "\n",
    "    ''' 主测试 '''\n",
    "\n",
    "    net = load_models()\n",
    "    img_list = load_images()\n",
    "\n",
    "    if not os.path.exists(save_path):\n",
    "        os.makedirs(save_path)\n",
    "    now = 0\n",
    "    print('处理中: {}/{}'.format(now+1, img_list.__len__()))\n",
    "    for img_path in img_list:\n",
    "        # 加载图像       \n",
    "        image = Image.open(img_path)\n",
    "        if image.mode == 'L':\n",
    "            image = image.convert('RGB')\n",
    "        image = np.array(image)\n",
    "\n",
    "        # 人脸检测\n",
    "        max_im_shrink = (0x7fffffff / 200.0 / (image.shape[0] * image.shape[1])) ** 0.5 # caffe输入图像的最大尺寸\n",
    "        max_im_shrink = 3 if max_im_shrink > 3 else max_im_shrink\n",
    "\n",
    "        if USE_MULTI_SCALE:\n",
    "            with torch.no_grad():\n",
    "                det0 = detect_face(image, MY_SHRINK)  # 原始测试\n",
    "                det1 = flip_test(image, MY_SHRINK)    # 翻转测试\n",
    "                [det2, det3] = multi_scale_test(image, max_im_shrink) # 多尺度测试\n",
    "                det4 = multi_scale_test_pyramid(image, max_im_shrink)\n",
    "            det = np.row_stack((det0, det1, det2, det3, det4))\n",
    "            dets = bbox_vote(det)\n",
    "        else:\n",
    "            with torch.no_grad():\n",
    "                dets = detect_face(image, MY_SHRINK)  # 原始测试\n",
    "\n",
    "        # 通过置信度分数过滤检测结果\n",
    "        confidence_threshold = 0.8 # 您可以根据需要调整这个阈值，例如 0.7, 0.8 等\n",
    "        filtered_dets = dets[dets[:, 4] > confidence_threshold]\n",
    "\n",
    "        # 在图像上绘制边界框并保存\n",
    "        output_image = image.copy() # 创建副本用于绘制\n",
    "        for i in range(filtered_dets.shape[0]): # 使用过滤后的检测结果\n",
    "            xmin, ymin, xmax, ymax, score = filtered_dets[i]\n",
    "            # 绘制矩形（BGR格式的颜色，线宽）\n",
    "            cv2.rectangle(output_image, (int(xmin), int(ymin)), (int(xmax), int(ymax)), (0, 255, 0), 2)\n",
    "            # 可选：添加文本（分数）\n",
    "            # cv2.putText(output_image, f'{score:.2f}', (int(xmin), int(ymin) - 10), cv2.FONT_HERSHEY_SIMPLEX, 0.5, (0, 255, 0), 1)\n",
    "\n",
    "        # 保存带有检测结果的图像\n",
    "        output_filename = os.path.join(save_path, Path(os.path.basename(img_path)).stem + '_det.jpg') # 为图像使用不同的后缀\n",
    "        cv2.imwrite(output_filename, output_image)\n",
    "\n",
    "        # 保存结果到txt文件\n",
    "        fout = open(os.path.join(save_path, Path(os.path.basename(img_path)).stem + '.txt'), 'w')\n",
    "        for i in range(filtered_dets.shape[0]): # 使用过滤后的检测结果\n",
    "            xmin = filtered_dets[i][0]\n",
    "            ymin = filtered_dets[i][1]\n",
    "            xmax = filtered_dets[i][2]\n",
    "            ymax = filtered_dets[i][3]\n",
    "            score = filtered_dets[i][4]\n",
    "            fout.write('{} {} {} {} {}\\\\n'.format(xmin, ymin, xmax, ymax, score))\n",
    "        now += 1\n",
    "        print('处理中: {}/{}'.format(now + 1, img_list.__len__())) "
   ]
  },
  {
   "cell_type": "code",
   "execution_count": null,
   "metadata": {},
   "outputs": [],
   "source": []
  }
 ],
 "metadata": {
  "kernelspec": {
   "display_name": "gpupytorch",
   "language": "python",
   "name": "python3"
  },
  "language_info": {
   "codemirror_mode": {
    "name": "ipython",
    "version": 3
   },
   "file_extension": ".py",
   "mimetype": "text/x-python",
   "name": "python",
   "nbconvert_exporter": "python",
   "pygments_lexer": "ipython3",
   "version": "3.8.20"
  }
 },
 "nbformat": 4,
 "nbformat_minor": 2
}
